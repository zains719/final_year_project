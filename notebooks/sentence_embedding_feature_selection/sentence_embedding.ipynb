{
 "cells": [
  {
   "cell_type": "code",
   "execution_count": 1,
   "metadata": {},
   "outputs": [],
   "source": [
    "import pandas as pd\n",
    "from sentence_transformers import SentenceTransformer\n",
    "from transformers import AutoTokenizer\n",
    "from sklearn.metrics.pairwise import cosine_similarity"
   ]
  },
  {
   "cell_type": "code",
   "execution_count": 2,
   "metadata": {},
   "outputs": [
    {
     "name": "stdout",
     "output_type": "stream",
     "text": [
      "(6933, 17203)\n"
     ]
    }
   ],
   "source": [
    "df = pd.read_csv('../../data/smooth_df.csv')\n",
    "\n",
    "date_column = 'Date'\n",
    "date_number_column = 'Date Number'\n",
    "ili_rate_column = 'ILI Rate'\n",
    "query_columns = [col for col in df.columns if col not in [date_column, date_number_column, ili_rate_column]]\n",
    "\n",
    "df['Date'] = pd.to_datetime(df['Date'], format='%Y-%m-%d')\n",
    "\n",
    "print(df.shape)"
   ]
  },
  {
   "cell_type": "code",
   "execution_count": 3,
   "metadata": {},
   "outputs": [],
   "source": [
    "def get_model_info(model_name):\n",
    "    print(\"Model: \", model_name)\n",
    "    \n",
    "    model = SentenceTransformer(model_name)\n",
    "    print(\"Sentence Embedding Dimension: \", model.get_sentence_embedding_dimension())\n",
    "    \n",
    "    tokenizer = AutoTokenizer.from_pretrained(f'sentence-transformers/{model_name}')\n",
    "    vocab = set(tokenizer.vocab)\n",
    "    print(\"Vocab Length: \", len(vocab), 'NHS: ', 'nhs' in vocab)\n",
    "    print('\\n')\n",
    "\n",
    "base_queries = ['Flu', 'Flu NHS', 'Influenza', 'pregnancy flu', 'baby flu', 'flu symptoms', 'how to get rid of flu', 'flu vaccine nhs', 'flu medicine']\n",
    "\n",
    "cosine_similarity_dfs = {}\n",
    "\n",
    "def compute_cosine_similarities(model_name):\n",
    "    print(\"Model: \", model_name)\n",
    "    \n",
    "    model = SentenceTransformer(model_name)\n",
    "\n",
    "    query_embeddings = model.encode(query_columns)\n",
    "\n",
    "    for base_query in base_queries:\n",
    "        base_query_embedding = model.encode([base_query])\n",
    "        print(f\"{base_query} Base Query Embeddings: \", base_query_embedding.shape)\n",
    "        \n",
    "        cosine_similarities = cosine_similarity(base_query_embedding, query_embeddings)\n",
    "        cosine_similarities_df = pd.DataFrame(\n",
    "            {\"Query\": query_columns, \"Cosine Similarity\": cosine_similarities[0]}\n",
    "            ).sort_values(by='Cosine Similarity', ascending=False).reset_index(drop=True)\n",
    "        cosine_similarity_dfs[base_query] = cosine_similarities_df\n",
    "        cosine_similarities_df.to_csv(f'results/{base_query}.csv')"
   ]
  },
  {
   "cell_type": "code",
   "execution_count": 4,
   "metadata": {},
   "outputs": [
    {
     "name": "stdout",
     "output_type": "stream",
     "text": [
      "Model:  all-MiniLM-L12-v2\n",
      "Sentence Embedding Dimension:  384\n",
      "Vocab Length:  30522 NHS:  True\n",
      "\n",
      "\n",
      "Model:  all-MiniLM-L12-v2\n",
      "Flu Base Query Embeddings:  (1, 384)\n",
      "Flu NHS Base Query Embeddings:  (1, 384)\n",
      "Influenza Base Query Embeddings:  (1, 384)\n",
      "pregnancy flu Base Query Embeddings:  (1, 384)\n",
      "baby flu Base Query Embeddings:  (1, 384)\n",
      "flu symptoms Base Query Embeddings:  (1, 384)\n",
      "how to get rid of flu Base Query Embeddings:  (1, 384)\n",
      "flu vaccine nhs Base Query Embeddings:  (1, 384)\n",
      "flu medicine Base Query Embeddings:  (1, 384)\n"
     ]
    }
   ],
   "source": [
    "bert_sentence_model = 'all-MiniLM-L12-v2'\n",
    "get_model_info(bert_sentence_model)\n",
    "compute_cosine_similarities(bert_sentence_model)"
   ]
  },
  {
   "cell_type": "code",
   "execution_count": 5,
   "metadata": {},
   "outputs": [],
   "source": [
    "concatenated_df = pd.concat([df.assign(base_query=base_query) for base_query, df in cosine_similarity_dfs.items()])\n",
    "average_df = concatenated_df.groupby('Query')['Cosine Similarity'].mean().reset_index().sort_values(by='Cosine Similarity', ascending=False).reset_index(drop=True)\n",
    "average_df.to_csv('results/average.csv')"
   ]
  }
 ],
 "metadata": {
  "kernelspec": {
   "display_name": "env",
   "language": "python",
   "name": "python3"
  },
  "language_info": {
   "codemirror_mode": {
    "name": "ipython",
    "version": 3
   },
   "file_extension": ".py",
   "mimetype": "text/x-python",
   "name": "python",
   "nbconvert_exporter": "python",
   "pygments_lexer": "ipython3",
   "version": "3.9.18"
  }
 },
 "nbformat": 4,
 "nbformat_minor": 2
}
